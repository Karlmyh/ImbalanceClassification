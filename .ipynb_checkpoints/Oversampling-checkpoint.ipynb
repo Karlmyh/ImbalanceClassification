{
 "cells": [
  {
   "cell_type": "code",
   "execution_count": 11,
   "metadata": {},
   "outputs": [],
   "source": [
    "from sklearn.neighbors import KernelDensity\n",
    "import numpy as np\n",
    "\n",
    "from sklearn.datasets import make_moons\n",
    "from sklearn.neighbors import KNeighborsClassifier\n",
    "\n",
    "import matplotlib.pyplot as plt\n"
   ]
  },
  {
   "cell_type": "code",
   "execution_count": null,
   "metadata": {},
   "outputs": [],
   "source": []
  },
  {
   "cell_type": "code",
   "execution_count": 16,
   "metadata": {},
   "outputs": [
    {
     "data": {
      "text/plain": [
       "<matplotlib.collections.PathCollection at 0x7f41fadc4510>"
      ]
     },
     "execution_count": 16,
     "metadata": {},
     "output_type": "execute_result"
    },
    {
     "data": {
      "image/png": "[encoded data removed]",
      "text/plain": [
       "<Figure size 432x288 with 1 Axes>"
      ]
     },
     "metadata": {
      "needs_background": "light"
     },
     "output_type": "display_data"
    }
   ],
   "source": [
    "n_estimators = 1\n",
    "\n",
    "RANDOMSEED = 101\n",
    "\n",
    "n_zero = 200\n",
    "n_one = 20\n",
    "noise = 0.2\n",
    "\n",
    "RANDOMSTATE = np.random.RandomState(RANDOMSEED)\n",
    "random_seed = RANDOMSTATE.randint(0, np.iinfo(np.uint32).max)\n",
    "X, y = make_moons(n_samples=(n_zero, n_one),\n",
    "                  noise=noise,\n",
    "                  random_state=random_seed)\n",
    "\n",
    "\n",
    "X_minor = X[ y == 1 ,:]\n",
    "kde = KernelDensity(kernel='gaussian', bandwidth=0.01).fit(X_minor)\n",
    "\n",
    "X_oversample = kde.sample(n_samples = n_zero - n_one)\n",
    "\n",
    "\n",
    "n_neighbors = 20\n",
    "    \n",
    "X = np.vstack([X, X_oversample])\n",
    "y = np.append(y, np.ones(n_zero - n_one))\n",
    "classifier = KNeighborsClassifier(n_neighbors = n_neighbors)\n",
    "classifier.fit(X, y)\n",
    "\n",
    "\n",
    "axis0,axis1 = np.meshgrid(np.arange(-2,3,0.01),np.arange(-1,2,0.01))\n",
    "X_grid = np.array([axis0.ravel(),axis1.ravel()]).T\n",
    "y_grid = classifier.predict(X_grid).reshape(-1,500)\n",
    "\n",
    "_ = plt.contourf(axis0, axis1, 1-y_grid , 20,alpha = 0.5)\n",
    "\n",
    "X_test, y_test = make_moons(n_samples=(200, 200),\n",
    "                  noise=noise,\n",
    "                  random_state=random_seed)\n",
    "\n",
    "\n",
    "plt.scatter(X_test[y_test==0, 0], X_test[y_test==0, 1], color=\"C0\", marker=\".\", s=100)\n",
    "plt.scatter(X_test[y_test==1, 0], X_test[y_test==1, 1], color=\"C1\", marker=\".\", s=100)\n",
    "\n"
   ]
  },
  {
   "cell_type": "code",
   "execution_count": null,
   "metadata": {},
   "outputs": [],
   "source": []
  },
  {
   "cell_type": "code",
   "execution_count": null,
   "metadata": {},
   "outputs": [],
   "source": []
  },
  {
   "cell_type": "code",
   "execution_count": 45,
   "metadata": {},
   "outputs": [],
   "source": [
    "class UnitBallSampler(object):\n",
    "    def __init__(\n",
    "            self,\n",
    "            dim,\n",
    "            random_state = 1,\n",
    "            ):\n",
    "    \n",
    "        self.dim = dim\n",
    "        self.random_state = random_state\n",
    "        \n",
    "    def sample(self, n_sample):\n",
    "        np.random.seed(self.random_state)\n",
    "        \n",
    "        sample = np.random.normal(size = self.dim * n_sample).reshape(-1, self.dim)\n",
    "        sample = sample.T / np.linalg.norm(sample, axis = 1) * np.random.rand(n_sample)**(1/self.dim)\n",
    "        \n",
    "        return sample.T"
   ]
  },
  {
   "cell_type": "code",
   "execution_count": 46,
   "metadata": {},
   "outputs": [],
   "source": [
    "sampler = UnitBallSampler(3)"
   ]
  },
  {
   "cell_type": "code",
   "execution_count": 51,
   "metadata": {},
   "outputs": [
    {
     "data": {
      "text/plain": [
       "array([0.66021369, 0.50661681, 0.2685471 , 0.87886369, 0.59592434,\n",
       "       0.6427572 , 0.78921631, 0.37648312, 0.83112617, 0.52743818])"
      ]
     },
     "execution_count": 51,
     "metadata": {},
     "output_type": "execute_result"
    }
   ],
   "source": [
    "np.linalg.norm(sampler.sample(10) , axis =1)"
   ]
  },
  {
   "cell_type": "code",
   "execution_count": 36,
   "metadata": {},
   "outputs": [],
   "source": [
    "sample = np.random.normal(size = 3 * 10).reshape(-1,3)"
   ]
  },
  {
   "cell_type": "code",
   "execution_count": 37,
   "metadata": {},
   "outputs": [
    {
     "ename": "ValueError",
     "evalue": "operands could not be broadcast together with shapes (10,3) (10,) ",
     "output_type": "error",
     "traceback": [
      "\u001b[0;31m---------------------------------------------------------------------------\u001b[0m",
      "\u001b[0;31mValueError\u001b[0m                                Traceback (most recent call last)",
      "\u001b[0;32m<ipython-input-37-f64aac13ea9e>\u001b[0m in \u001b[0;36m<module>\u001b[0;34m\u001b[0m\n\u001b[0;32m----> 1\u001b[0;31m \u001b[0msample\u001b[0m  \u001b[0;34m*\u001b[0m \u001b[0mnp\u001b[0m\u001b[0;34m.\u001b[0m\u001b[0mlinalg\u001b[0m\u001b[0;34m.\u001b[0m\u001b[0mnorm\u001b[0m\u001b[0;34m(\u001b[0m\u001b[0msample\u001b[0m\u001b[0;34m,\u001b[0m \u001b[0maxis\u001b[0m \u001b[0;34m=\u001b[0m \u001b[0;36m1\u001b[0m\u001b[0;34m)\u001b[0m\u001b[0;34m\u001b[0m\u001b[0;34m\u001b[0m\u001b[0m\n\u001b[0m",
      "\u001b[0;31mValueError\u001b[0m: operands could not be broadcast together with shapes (10,3) (10,) "
     ]
    }
   ],
   "source": [
    "sample  * np.linalg.norm(sample, axis = 1) "
   ]
  },
  {
   "cell_type": "code",
   "execution_count": 40,
   "metadata": {},
   "outputs": [
    {
     "data": {
      "text/plain": [
       "array([[ 1.19891788,  0.37031283, -0.37528495],\n",
       "       [-0.63873041,  0.84698871,  0.07734007],\n",
       "       [-0.34385368,  0.08719371, -0.62000084],\n",
       "       [ 0.69803203, -0.89425713,  1.2245077 ],\n",
       "       [ 0.40349164,  1.18715705, -1.09491185],\n",
       "       [ 0.16938243,  1.4811129 , -0.9537006 ],\n",
       "       [-0.26621851,  0.06522909, -1.37311732],\n",
       "       [ 0.31515939,  1.6923213 , -0.85951594],\n",
       "       [ 0.35054598, -2.62456682, -0.03869551],\n",
       "       [-1.61577235,  2.24283542,  0.40890054]])"
      ]
     },
     "execution_count": 40,
     "metadata": {},
     "output_type": "execute_result"
    }
   ],
   "source": [
    "np.array([1,2,1]) * sample"
   ]
  },
  {
   "cell_type": "code",
   "execution_count": 44,
   "metadata": {},
   "outputs": [
    {
     "data": {
      "text/plain": [
       "array([[ 1.19891788, -0.63873041, -0.34385368,  0.69803203,  0.40349164,\n",
       "         0.16938243, -0.26621851,  0.31515939,  0.35054598, -1.61577235],\n",
       "       [ 0.18515642,  0.42349435,  0.04359686, -0.44712856,  0.59357852,\n",
       "         0.74055645,  0.03261455,  0.84616065, -1.31228341,  1.12141771],\n",
       "       [-0.37528495,  0.07734007, -0.62000084,  1.2245077 , -1.09491185,\n",
       "        -0.9537006 , -1.37311732, -0.85951594, -0.03869551,  0.40890054]])"
      ]
     },
     "execution_count": 44,
     "metadata": {},
     "output_type": "execute_result"
    }
   ],
   "source": [
    "np.multiply(  sample.T,np.ones(10))"
   ]
  },
  {
   "cell_type": "code",
   "execution_count": null,
   "metadata": {},
   "outputs": [],
   "source": []
  }
 ],
 "metadata": {
  "kernelspec": {
   "display_name": "Python 3",
   "language": "python",
   "name": "python3"
  },
  "language_info": {
   "codemirror_mode": {
    "name": "ipython",
    "version": 3
   },
   "file_extension": ".py",
   "mimetype": "text/x-python",
   "name": "python",
   "nbconvert_exporter": "python",
   "pygments_lexer": "ipython3",
   "version": "3.7.9"
  }
 },
 "nbformat": 4,
 "nbformat_minor": 4
}
